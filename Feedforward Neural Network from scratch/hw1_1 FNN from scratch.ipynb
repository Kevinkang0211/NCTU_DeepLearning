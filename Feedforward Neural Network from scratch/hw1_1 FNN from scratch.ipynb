{
 "cells": [
  {
   "cell_type": "markdown",
   "metadata": {},
   "source": [
    "# Deep Learning HW1"
   ]
  },
  {
   "cell_type": "code",
   "execution_count": 1,
   "metadata": {},
   "outputs": [],
   "source": [
    "import numpy as np\n",
    "import pandas as pd\n",
    "import matplotlib.pyplot as plt\n",
    "import json\n",
    "from math import log\n",
    "import math\n",
    "import time"
   ]
  },
  {
   "cell_type": "code",
   "execution_count": 2,
   "metadata": {},
   "outputs": [
    {
     "name": "stdout",
     "output_type": "stream",
     "text": [
      "訓練集有: 51000 筆資料\n",
      "測試集有: 7954 筆資料\n"
     ]
    }
   ],
   "source": [
    "test = np.load('test.npz',mmap_mode='r')\n",
    "train = np.load('train.npz',mmap_mode='r')\n",
    "#test.files\n",
    "\n",
    "train_img = train['image']\n",
    "y_train = train['label']\n",
    "test_img = test['image']\n",
    "y_test = test['label']\n",
    "\n",
    "\n",
    "print('訓練集有:',len(y_train),'筆資料')\n",
    "print('測試集有:',len(y_test),'筆資料')\n"
   ]
  },
  {
   "cell_type": "code",
   "execution_count": 3,
   "metadata": {},
   "outputs": [],
   "source": [
    "def img_preprocess(data):\n",
    "    #先normalize圖片 (divided by 255)\n",
    "    data = data/255\n",
    "    #flatten img\n",
    "    data2 = []\n",
    "    for i in range(len(data)):\n",
    "        data2.append(data[i].flatten())\n",
    "    return data2"
   ]
  },
  {
   "cell_type": "code",
   "execution_count": 9,
   "metadata": {},
   "outputs": [
    {
     "name": "stdout",
     "output_type": "stream",
     "text": [
      "訓練集有: 51000 張\n",
      "每張的維度(向量): 1024\n",
      "測試集有: 7954 張\n",
      "每張的維度(向量): 1024\n"
     ]
    }
   ],
   "source": [
    "x_test = img_preprocess(test_img)\n",
    "x_train = img_preprocess(train_img)\n",
    "\n",
    "x_train = np.array(x_train)\n",
    "y_train = np.array(y_train)\n",
    "x_test = np.array(x_test)\n",
    "y_test =np.array(y_test)\n",
    "\n",
    "print('訓練集有:',len(x_train),'張')\n",
    "print('每張的維度(向量):',len(x_train[0]))\n",
    "\n",
    "print('測試集有:',len(x_test),'張')\n",
    "print('每張的維度(向量):',len(x_test[0]))\n",
    "\n"
   ]
  },
  {
   "cell_type": "code",
   "execution_count": 4,
   "metadata": {},
   "outputs": [],
   "source": [
    "\n",
    "        \n",
    "#Create Hidden Layer\n",
    "def create_NN(layers):\n",
    "    weights = []\n",
    "    #biases = []\n",
    "\n",
    "    for i in range(len(layers)-1):\n",
    "        w =  np.random.randn(layers[i], layers[i+1]) * 0.0\n",
    "        #b = np.ones((1, layers[i+1]))\n",
    "        weights.append(w)\n",
    "        #biases.append(b)\n",
    "    return weights #,biases  \n",
    "\n",
    "#Activation Function\n",
    "def ReLU(inputs):\n",
    "    return np.maximum(0,inputs)\n",
    "  \n",
    "def Softmax(inputs):\n",
    "    exp_values = np.exp(inputs - np.max(inputs, axis=1,keepdims=True))\n",
    "    return exp_values / np.sum(exp_values, axis=1,keepdims=True)\n",
    "    \n",
    "    \n",
    "#Cross entropy calculate function\n",
    "def cross_entropy_loss(y_predict, y_true):\n",
    "    #y_true = np.array(pd.get_dummies(y_true))\n",
    "    y_true = np.eye(6)[y_true]\n",
    "    return -np.sum(y_true * np.log(y_predict+0.00001))/ len(y_true)  #add 0.00001 to prevent zero in np.log\n",
    "\n",
    "#calculate derivative of softmax、relu for backpropagation\n",
    "def softmax_loss(y_predict,y_true):\n",
    "        m = len(y_predict)\n",
    "        dz = y_predict.copy()\n",
    "        # Calculate gradient\n",
    "        dz[range(m), y_true] -= 1\n",
    "        \n",
    "        return dz / m\n",
    "\n",
    "def de_ReLU(Z):\n",
    "    Z[Z <= 0] = 0\n",
    "    return Z\n",
    "\n",
    "\n",
    "def forward(X,weights):\n",
    "    z_list = []\n",
    "    a_list = []\n",
    "    \n",
    "    for i in range(len(weights)):\n",
    "        if i == 0:  #input layer\n",
    "            z_list.append(np.dot(X, weights[i]))# + biases[i])\n",
    "            a_list.append(ReLU(z_list[i]))\n",
    "            \n",
    "        elif i != len(weights) and i!=(len(weights)-1):  #hidden layer\n",
    "            z_list.append(np.dot(a_list[i-1], weights[i]) )#+ biases[i])\n",
    "            a_list.append(ReLU(z_list[i]))\n",
    "            \n",
    "        elif i == (len(weights)-1):  #output layer\n",
    "            \n",
    "            z_list.append(np.dot(a_list[i-1], weights[i]) )#+ biases[i])\n",
    "            a_list.append(Softmax(z_list[i]))\n",
    "  \n",
    "    \n",
    "    \n",
    "    \n",
    "    return z_list,a_list\n",
    "\n"
   ]
  },
  {
   "cell_type": "code",
   "execution_count": 17,
   "metadata": {},
   "outputs": [],
   "source": [
    "\n",
    "def mini_SGD(layers,epochs,batch_size,lr,*args):\n",
    "    \n",
    "    #epochs = 10\n",
    "    #batch_size = 50\n",
    "    batch_num = math.ceil(len(x_train)/batch_size)\n",
    "    #lr=0.01\n",
    "\n",
    "    #get initial weight and biases\n",
    "    if args:\n",
    "        weights=[]\n",
    "        print('---Using weights given by TAs---')\n",
    "        for item in args[0]:\n",
    "            weights.append(item)\n",
    "        \n",
    "    else:\n",
    "        print('---Random initial weight---')\n",
    "        weights = create_NN(layers)\n",
    "        \n",
    "    print('Learning rate:',lr)\n",
    "    print('batch size:', batch_size)\n",
    "    print('Total epochs:', epochs)\n",
    "    \n",
    "    \n",
    "    #accuracy、loss for train and test data\n",
    "    acc_list = [[],[]]\n",
    "    loss_list = [[],[]]\n",
    "    print('begin training...')\n",
    "    for epoch in range(epochs):\n",
    "        for i in range(batch_num):\n",
    "            x_train_batch = x_train[i*batch_size : (i+1)*batch_size]\n",
    "            y_train_batch = y_train[i*batch_size : (i+1)*batch_size]\n",
    "\n",
    "            #Feed fordward Here\n",
    "            z_list, a_list = forward(x_train_batch,weights)\n",
    "            \n",
    "            z_list_train, a_list_train = forward(x_train,weights) \n",
    "            z_list_test, a_list_test = forward(x_test[:],weights)\n",
    "            \n",
    "            #計算Loss\n",
    "            #train_loss = cross_entropy_loss(a_list[-1] , y_train_batch)\n",
    "            train_loss = cross_entropy_loss(a_list_train[-1] , y_train)\n",
    "            test_loss = cross_entropy_loss(a_list_test[-1] , y_test[:])\n",
    "\n",
    "            #每行機率算出來最大值就是分類結果(用argmax 取其index)\n",
    "            #predictions = np.argmax(a_list[-1], axis=1)\n",
    "            train_predictions = np.argmax(a_list_train[-1],axis=1)\n",
    "            test_predictions = np.argmax(a_list_test[-1], axis=1)\n",
    "\n",
    "            #計算ACC 計算所有成功估計的個數佔整體平均\n",
    "            #accuracy = np.mean(predictions==y_train_batch)\n",
    "            accuracy = np.mean(train_predictions==y_train)\n",
    "            test_acc = np.mean(test_predictions==y_test[:])\n",
    "\n",
    "            acc_list[0].append(accuracy)\n",
    "            acc_list[1].append(test_acc)\n",
    "\n",
    "            loss_list[0].append(train_loss)\n",
    "            loss_list[1].append(test_loss)\n",
    "\n",
    "\n",
    "            if not epoch%1:\n",
    "                if not i % batch_num:\n",
    "                    print('【Epoch',epoch,'】:',end='')\n",
    "                    print('Train Accuracy: %.3f' %accuracy ,end='')\n",
    "                    print(', Train Loss: %.3f' %train_loss,end='')\n",
    "                    print(' Test Accuracy: %.3f' %test_acc ,end='')\n",
    "                    print(', Test Loss: %.3f' %test_loss)\n",
    "                    print('')\n",
    "\n",
    "            \n",
    "            ###############################BACKPROPAGATION#######################################\n",
    "            #prediction : a_list[-1]\n",
    "            #y_true : y_train_batch\n",
    "\n",
    "            m = len(y_train_batch)\n",
    "            dw_list = []\n",
    "            db_list = []\n",
    "\n",
    "            for i in range(len(weights)-1,-1,-1):\n",
    "                if i == len(weights)-1:               #output layer\n",
    "                    dz = softmax_loss(a_list[-1], y_train_batch)\n",
    "                    dw_list.insert(0, 1/m * np.dot(a_list[i-1].T, dz))\n",
    "                    #db_list.insert(0, 1/m * np.sum(dz,axis=0,keepdims=True))\n",
    "\n",
    "                elif i != len(weights) and  i!=0:     #hidden layer\n",
    "                    dz = np.dot(dz,  weights[i+1].T) * de_ReLU(z_list[i])\n",
    "                    dw_list.insert(0, 1/m * np.dot(a_list[i-1].T, dz))\n",
    "                    #db_list.insert(0, 1/m * np.sum(dz,axis=0,keepdims=True))\n",
    "\n",
    "                elif i == 0:                          #input layer\n",
    "                    dz = np.dot(dz, weights[i+1].T) * de_ReLU(z_list[i])\n",
    "                    dw_list.insert(0, 1/m * np.dot(x_train_batch.T, dz))\n",
    "                    #db_list.insert(0, 1/m * np.sum(dz,axis=0,keepdims=True))\n",
    "\n",
    "\n",
    "            ############################Update weights and biases###################################\n",
    "\n",
    "            for i in range(len(weights)):\n",
    "                weights[i] -= lr * dw_list[i]\n",
    "                \n",
    "    #############################PLOT#########################\n",
    "    \n",
    "    plt.figure(figsize=(10,5))\n",
    "    plt.plot(acc_list[0],label='Training ACC')\n",
    "    plt.plot(acc_list[1],label='Testing ACC')\n",
    "    plt.title('Learning Curve')\n",
    "    plt.xlabel('iterations')\n",
    "    plt.ylabel('ACC')\n",
    "    plt.legend()\n",
    "    plt.show()\n",
    "\n",
    "    plt.figure(figsize=(10,5))\n",
    "    plt.plot(loss_list[0],label='Training Loss')\n",
    "    plt.plot(loss_list[1],label='Testing Loss')\n",
    "    plt.title('Learning Curve (Loss)')\n",
    "    plt.xlabel('iterations')\n",
    "    plt.ylabel('Loss')\n",
    "    plt.legend()\n",
    "    plt.show()\n",
    "    \n",
    "    \n",
    "    print('training success')"
   ]
  },
  {
   "cell_type": "code",
   "execution_count": null,
   "metadata": {},
   "outputs": [],
   "source": []
  },
  {
   "cell_type": "markdown",
   "metadata": {},
   "source": [
    "## HW1-1 (a)"
   ]
  },
  {
   "cell_type": "markdown",
   "metadata": {},
   "source": [
    "### Plot the learning curves of J(w) and the accuracy"
   ]
  },
  {
   "cell_type": "markdown",
   "metadata": {},
   "source": [
    "模型設計:\n",
    "\n",
    "Hidden layer1: 64 nodes，\n",
    "\n",
    "Hidden layer2: 32 nodes，\n",
    "\n",
    "output layer:  6 nodes。\n",
    "\n",
    "Epoch number = 20，\n",
    "Batch size = 2048，\n",
    "Learning rate = 0.8。\n",
    "\n",
    "在前四個epoch Acc迅速爬升，並在第14、15epoch之後，Accuracy逐漸收斂到80%以上。"
   ]
  },
  {
   "cell_type": "code",
   "execution_count": 38,
   "metadata": {},
   "outputs": [
    {
     "name": "stdout",
     "output_type": "stream",
     "text": [
      "---Random initial weight---\n",
      "Learning rate: 0.8\n",
      "batch size: 2048\n",
      "Total epochs: 20\n",
      "【Epoch 0 】:Train Accuracy: 0.167, Train Loss: 9.541 Test Accuracy: 0.189, Test Loss: 9.302\n",
      "\n",
      "【Epoch 1 】:Train Accuracy: 0.397, Train Loss: 3.701 Test Accuracy: 0.436, Test Loss: 3.102\n",
      "\n",
      "【Epoch 2 】:Train Accuracy: 0.542, Train Loss: 2.643 Test Accuracy: 0.584, Test Loss: 2.183\n",
      "\n",
      "【Epoch 3 】:Train Accuracy: 0.602, Train Loss: 2.091 Test Accuracy: 0.645, Test Loss: 1.759\n",
      "\n",
      "【Epoch 4 】:Train Accuracy: 0.649, Train Loss: 1.733 Test Accuracy: 0.690, Test Loss: 1.498\n",
      "\n",
      "【Epoch 5 】:Train Accuracy: 0.684, Train Loss: 1.489 Test Accuracy: 0.718, Test Loss: 1.322\n",
      "\n",
      "【Epoch 6 】:Train Accuracy: 0.712, Train Loss: 1.315 Test Accuracy: 0.738, Test Loss: 1.193\n",
      "\n",
      "【Epoch 7 】:Train Accuracy: 0.733, Train Loss: 1.186 Test Accuracy: 0.755, Test Loss: 1.096\n",
      "\n",
      "【Epoch 8 】:Train Accuracy: 0.749, Train Loss: 1.088 Test Accuracy: 0.771, Test Loss: 1.020\n",
      "\n",
      "【Epoch 9 】:Train Accuracy: 0.762, Train Loss: 1.011 Test Accuracy: 0.783, Test Loss: 0.960\n",
      "\n",
      "【Epoch 10 】:Train Accuracy: 0.774, Train Loss: 0.949 Test Accuracy: 0.794, Test Loss: 0.911\n",
      "\n",
      "【Epoch 11 】:Train Accuracy: 0.782, Train Loss: 0.897 Test Accuracy: 0.801, Test Loss: 0.871\n",
      "\n",
      "【Epoch 12 】:Train Accuracy: 0.790, Train Loss: 0.854 Test Accuracy: 0.806, Test Loss: 0.837\n",
      "\n",
      "【Epoch 13 】:Train Accuracy: 0.797, Train Loss: 0.817 Test Accuracy: 0.808, Test Loss: 0.809\n",
      "\n",
      "【Epoch 14 】:Train Accuracy: 0.803, Train Loss: 0.785 Test Accuracy: 0.811, Test Loss: 0.783\n",
      "\n",
      "【Epoch 15 】:Train Accuracy: 0.808, Train Loss: 0.755 Test Accuracy: 0.814, Test Loss: 0.761\n",
      "\n",
      "【Epoch 16 】:Train Accuracy: 0.814, Train Loss: 0.729 Test Accuracy: 0.817, Test Loss: 0.740\n",
      "\n",
      "【Epoch 17 】:Train Accuracy: 0.819, Train Loss: 0.705 Test Accuracy: 0.821, Test Loss: 0.721\n",
      "\n",
      "【Epoch 18 】:Train Accuracy: 0.824, Train Loss: 0.683 Test Accuracy: 0.823, Test Loss: 0.703\n",
      "\n",
      "【Epoch 19 】:Train Accuracy: 0.828, Train Loss: 0.663 Test Accuracy: 0.825, Test Loss: 0.687\n",
      "\n"
     ]
    },
    {
     "data": {
      "image/png": "[encoded data removed]",
      "text/plain": [
       "<Figure size 720x360 with 1 Axes>"
      ]
     },
     "metadata": {
      "needs_background": "light"
     },
     "output_type": "display_data"
    },
    {
     "data": {
      "image/png": "[encoded data removed]",
      "text/plain": [
       "<Figure size 720x360 with 1 Axes>"
      ]
     },
     "metadata": {
      "needs_background": "light"
     },
     "output_type": "display_data"
    },
    {
     "name": "stdout",
     "output_type": "stream",
     "text": [
      "elapsed time: 114.90426230430603 s\n"
     ]
    }
   ],
   "source": [
    "\n",
    "layers = [1024,64,32,6]\n",
    "start = time.time()\n",
    "mini_SGD(layers,20,2048,0.8)\n",
    "\n",
    "print('elapsed time:',time.time()-start,'s')"
   ]
  },
  {
   "cell_type": "code",
   "execution_count": null,
   "metadata": {},
   "outputs": [],
   "source": []
  },
  {
   "cell_type": "markdown",
   "metadata": {},
   "source": [
    "## HW1-1 (b)"
   ]
  },
  {
   "cell_type": "markdown",
   "metadata": {},
   "source": [
    "### Repeat 1(a) by using different batch sizes. (batch size = 1024)"
   ]
  },
  {
   "cell_type": "markdown",
   "metadata": {},
   "source": [
    "使用同(a)的模型設計，將batch size 改成1024，訓練相較前一題花了將近兩倍的時間。\n",
    "\n",
    "模型訓練在前3個epoch Acc迅速爬升，到了第15個epoch 之後可以收斂到Accuracy 90%以上，但後面有些震盪不穩，在Acc有時下探到80%甚至是70%。\n"
   ]
  },
  {
   "cell_type": "code",
   "execution_count": 46,
   "metadata": {},
   "outputs": [
    {
     "name": "stdout",
     "output_type": "stream",
     "text": [
      "---Random initial weight---\n",
      "Learning rate: 0.8\n",
      "batch size: 1024\n",
      "Total epochs: 20\n",
      "【Epoch 0 】:Train Accuracy: 0.167, Train Loss: 9.571 Test Accuracy: 0.190, Test Loss: 9.319\n",
      "\n",
      "【Epoch 1 】:Train Accuracy: 0.624, Train Loss: 1.962 Test Accuracy: 0.595, Test Loss: 2.054\n",
      "\n",
      "【Epoch 2 】:Train Accuracy: 0.748, Train Loss: 1.058 Test Accuracy: 0.718, Test Loss: 1.066\n",
      "\n",
      "【Epoch 3 】:Train Accuracy: 0.812, Train Loss: 0.774 Test Accuracy: 0.777, Test Loss: 0.826\n",
      "\n",
      "【Epoch 4 】:Train Accuracy: 0.834, Train Loss: 0.662 Test Accuracy: 0.800, Test Loss: 0.767\n",
      "\n",
      "【Epoch 5 】:Train Accuracy: 0.860, Train Loss: 0.562 Test Accuracy: 0.824, Test Loss: 0.666\n",
      "\n",
      "【Epoch 6 】:Train Accuracy: 0.875, Train Loss: 0.499 Test Accuracy: 0.836, Test Loss: 0.603\n",
      "\n",
      "【Epoch 7 】:Train Accuracy: 0.884, Train Loss: 0.461 Test Accuracy: 0.842, Test Loss: 0.562\n",
      "\n",
      "【Epoch 8 】:Train Accuracy: 0.888, Train Loss: 0.442 Test Accuracy: 0.842, Test Loss: 0.557\n",
      "\n",
      "【Epoch 9 】:Train Accuracy: 0.885, Train Loss: 0.450 Test Accuracy: 0.838, Test Loss: 0.592\n",
      "\n",
      "【Epoch 10 】:Train Accuracy: 0.879, Train Loss: 0.474 Test Accuracy: 0.827, Test Loss: 0.643\n",
      "\n",
      "【Epoch 11 】:Train Accuracy: 0.876, Train Loss: 0.488 Test Accuracy: 0.826, Test Loss: 0.665\n",
      "\n",
      "【Epoch 12 】:Train Accuracy: 0.874, Train Loss: 0.507 Test Accuracy: 0.824, Test Loss: 0.687\n",
      "\n",
      "【Epoch 13 】:Train Accuracy: 0.841, Train Loss: 0.683 Test Accuracy: 0.790, Test Loss: 0.930\n",
      "\n",
      "【Epoch 14 】:Train Accuracy: 0.895, Train Loss: 0.412 Test Accuracy: 0.857, Test Loss: 0.526\n",
      "\n",
      "【Epoch 15 】:Train Accuracy: 0.923, Train Loss: 0.334 Test Accuracy: 0.898, Test Loss: 0.411\n",
      "\n",
      "【Epoch 16 】:Train Accuracy: 0.933, Train Loss: 0.314 Test Accuracy: 0.911, Test Loss: 0.371\n",
      "\n",
      "【Epoch 17 】:Train Accuracy: 0.924, Train Loss: 0.321 Test Accuracy: 0.904, Test Loss: 0.393\n",
      "\n",
      "【Epoch 18 】:Train Accuracy: 0.908, Train Loss: 0.360 Test Accuracy: 0.890, Test Loss: 0.444\n",
      "\n",
      "【Epoch 19 】:Train Accuracy: 0.902, Train Loss: 0.371 Test Accuracy: 0.881, Test Loss: 0.459\n",
      "\n"
     ]
    },
    {
     "data": {
      "image/png": "[encoded data removed]",
      "text/plain": [
       "<Figure size 720x360 with 1 Axes>"
      ]
     },
     "metadata": {
      "needs_background": "light"
     },
     "output_type": "display_data"
    },
    {
     "data": {
      "image/png": "[encoded data removed]",
      "text/plain": [
       "<Figure size 720x360 with 1 Axes>"
      ]
     },
     "metadata": {
      "needs_background": "light"
     },
     "output_type": "display_data"
    },
    {
     "name": "stdout",
     "output_type": "stream",
     "text": [
      "elapsed time: 226.38148403167725 s\n"
     ]
    }
   ],
   "source": [
    "\n",
    "layers = [1024,64,32,6]\n",
    "start = time.time()\n",
    "mini_SGD(layers,20,1024,0.8)\n",
    "\n",
    "print('elapsed time:',time.time()-start,'s')"
   ]
  },
  {
   "cell_type": "markdown",
   "metadata": {},
   "source": [
    "## HW1-1(c)"
   ]
  },
  {
   "cell_type": "markdown",
   "metadata": {},
   "source": [
    "### Repeat 1(a) by performing zero initialization for the model weights."
   ]
  },
  {
   "cell_type": "markdown",
   "metadata": {},
   "source": [
    "使用相同(a)的模型設計，並改用zero initialization 的 weights。\n",
    "\n",
    "結果是因為weights都是0，加上設計模型沒有biases，input的X資料經過第一層的矩陣相乘之後，所有的值都歸0了，算到最後面，Model無法進行更新，所以也就無法進行訓練，所以ACC和Loss一直都維持在最初的值。"
   ]
  },
  {
   "cell_type": "code",
   "execution_count": 55,
   "metadata": {},
   "outputs": [
    {
     "name": "stdout",
     "output_type": "stream",
     "text": [
      "---Random initial weight---\n",
      "Learning rate: 0.8\n",
      "batch size: 2048\n",
      "Total epochs: 20\n",
      "【Epoch 0 】:Train Accuracy: 0.167, Train Loss: 1.792 Test Accuracy: 0.189, Test Loss: 1.792\n",
      "\n",
      "【Epoch 1 】:Train Accuracy: 0.167, Train Loss: 1.792 Test Accuracy: 0.189, Test Loss: 1.792\n",
      "\n",
      "【Epoch 2 】:Train Accuracy: 0.167, Train Loss: 1.792 Test Accuracy: 0.189, Test Loss: 1.792\n",
      "\n",
      "【Epoch 3 】:Train Accuracy: 0.167, Train Loss: 1.792 Test Accuracy: 0.189, Test Loss: 1.792\n",
      "\n",
      "【Epoch 4 】:Train Accuracy: 0.167, Train Loss: 1.792 Test Accuracy: 0.189, Test Loss: 1.792\n",
      "\n",
      "【Epoch 5 】:Train Accuracy: 0.167, Train Loss: 1.792 Test Accuracy: 0.189, Test Loss: 1.792\n",
      "\n",
      "【Epoch 6 】:Train Accuracy: 0.167, Train Loss: 1.792 Test Accuracy: 0.189, Test Loss: 1.792\n",
      "\n",
      "【Epoch 7 】:Train Accuracy: 0.167, Train Loss: 1.792 Test Accuracy: 0.189, Test Loss: 1.792\n",
      "\n",
      "【Epoch 8 】:Train Accuracy: 0.167, Train Loss: 1.792 Test Accuracy: 0.189, Test Loss: 1.792\n",
      "\n",
      "【Epoch 9 】:Train Accuracy: 0.167, Train Loss: 1.792 Test Accuracy: 0.189, Test Loss: 1.792\n",
      "\n",
      "【Epoch 10 】:Train Accuracy: 0.167, Train Loss: 1.792 Test Accuracy: 0.189, Test Loss: 1.792\n",
      "\n",
      "【Epoch 11 】:Train Accuracy: 0.167, Train Loss: 1.792 Test Accuracy: 0.189, Test Loss: 1.792\n",
      "\n",
      "【Epoch 12 】:Train Accuracy: 0.167, Train Loss: 1.792 Test Accuracy: 0.189, Test Loss: 1.792\n",
      "\n",
      "【Epoch 13 】:Train Accuracy: 0.167, Train Loss: 1.792 Test Accuracy: 0.189, Test Loss: 1.792\n",
      "\n",
      "【Epoch 14 】:Train Accuracy: 0.167, Train Loss: 1.792 Test Accuracy: 0.189, Test Loss: 1.792\n",
      "\n",
      "【Epoch 15 】:Train Accuracy: 0.167, Train Loss: 1.792 Test Accuracy: 0.189, Test Loss: 1.792\n",
      "\n",
      "【Epoch 16 】:Train Accuracy: 0.167, Train Loss: 1.792 Test Accuracy: 0.189, Test Loss: 1.792\n",
      "\n",
      "【Epoch 17 】:Train Accuracy: 0.167, Train Loss: 1.792 Test Accuracy: 0.189, Test Loss: 1.792\n",
      "\n",
      "【Epoch 18 】:Train Accuracy: 0.167, Train Loss: 1.792 Test Accuracy: 0.189, Test Loss: 1.792\n",
      "\n",
      "【Epoch 19 】:Train Accuracy: 0.167, Train Loss: 1.792 Test Accuracy: 0.189, Test Loss: 1.792\n",
      "\n"
     ]
    },
    {
     "data": {
      "image/png": "[encoded data removed]",
      "text/plain": [
       "<Figure size 720x360 with 1 Axes>"
      ]
     },
     "metadata": {
      "needs_background": "light"
     },
     "output_type": "display_data"
    },
    {
     "data": {
      "image/png": "[encoded data removed]",
      "text/plain": [
       "<Figure size 720x360 with 1 Axes>"
      ]
     },
     "metadata": {
      "needs_background": "light"
     },
     "output_type": "display_data"
    },
    {
     "name": "stdout",
     "output_type": "stream",
     "text": [
      "elapsed time: 106.9410183429718 s\n"
     ]
    }
   ],
   "source": [
    "# performing zero initialization\n",
    "#mini_SGD (epoch , batch size , learning rate)\n",
    "layers = [1024,64,32,6]\n",
    "start = time.time()\n",
    "mini_SGD(layers,20,2048,0.8)\n",
    "\n",
    "print('elapsed time:',time.time()-start,'s')"
   ]
  },
  {
   "cell_type": "code",
   "execution_count": null,
   "metadata": {},
   "outputs": [],
   "source": []
  },
  {
   "cell_type": "code",
   "execution_count": null,
   "metadata": {},
   "outputs": [],
   "source": []
  },
  {
   "cell_type": "markdown",
   "metadata": {},
   "source": [
    "# Homework 1-2"
   ]
  },
  {
   "cell_type": "code",
   "execution_count": 6,
   "metadata": {},
   "outputs": [],
   "source": [
    "#讀取助教給定的configuration檔案\n",
    "def read_config(nn_config):\n",
    "    layers = []\n",
    "    for layer in nn_config['nn']:\n",
    "        layers.append(nn_config['nn'][layer]['input_dim'])\n",
    "    if layer == 'output':\n",
    "        layers.append(nn_config['nn'][layer]['output_dim'])\n",
    "    \n",
    "    \n",
    "    epoch = nn_config['epoch']\n",
    "    lr = nn_config['lr']\n",
    "    batch_size = nn_config['batch_size']\n",
    "    \n",
    "    return layers,epoch,lr,batch_size\n",
    "\n",
    "\n",
    "def read_weight(weights_raw):\n",
    "    weights = []\n",
    "\n",
    "    for weight_layer in weights_raw:\n",
    "        weights.append(weights_raw[weight_layer])\n",
    "        \n",
    "    return weights\n",
    "    "
   ]
  },
  {
   "cell_type": "code",
   "execution_count": 15,
   "metadata": {},
   "outputs": [
    {
     "name": "stderr",
     "output_type": "stream",
     "text": [
      "usage: ipykernel_launcher.py [-h] [--config CONFIG] [--weight WEIGHT] [--imgfilelistname IMGFILELISTNAME]\n",
      "ipykernel_launcher.py: error: unrecognized arguments: -f C:\\Users\\kevin\\AppData\\Roaming\\jupyter\\runtime\\kernel-bc6d6dad-ce86-420c-a476-bce7e71c76dd.json\n"
     ]
    },
    {
     "ename": "SystemExit",
     "evalue": "2",
     "output_type": "error",
     "traceback": [
      "An exception has occurred, use %tb to see the full traceback.\n",
      "\u001b[1;31mSystemExit\u001b[0m\u001b[1;31m:\u001b[0m 2\n"
     ]
    }
   ],
   "source": [
    "import argparse\n",
    "parser = argparse.ArgumentParser()\n",
    "\n",
    "parser.add_argument('--config', help='config json for fnn')\n",
    "parser.add_argument('--weight', help='weight for fnn')\n",
    "parser.add_argument('--imgfilelistname', help='test img name list for fnn')\n",
    "args = parser.parse_args()\n",
    "\n",
    "'''\n",
    "print(args.config)\n",
    "print(args.weight)\n",
    "print(args.imgfilelistname)\n",
    "'''"
   ]
  },
  {
   "cell_type": "code",
   "execution_count": null,
   "metadata": {},
   "outputs": [],
   "source": []
  },
  {
   "cell_type": "code",
   "execution_count": 7,
   "metadata": {},
   "outputs": [
    {
     "data": {
      "text/plain": [
       "{'nn': {'layer1': {'input_dim': 1024, 'output_dim': 2048, 'act': 'relu'},\n",
       "  'layer2': {'input_dim': 2048, 'output_dim': 512, 'act': 'relu'},\n",
       "  'output': {'input_dim': 512, 'output_dim': 6, 'act': 'softmax'}},\n",
       " 'epoch': 20,\n",
       " 'lr': 0.001,\n",
       " 'batch_size': 2048,\n",
       " 'criterion': 'cross_entropy'}"
      ]
     },
     "execution_count": 7,
     "metadata": {},
     "output_type": "execute_result"
    }
   ],
   "source": [
    "weights_raw = np.load('weight.npz',mmap_mode='r')\n",
    "\n",
    "with open(\"config.json\", \"r\") as read_file:\n",
    "    nn_config = json.load(read_file)\n",
    "    \n",
    "nn_config"
   ]
  },
  {
   "cell_type": "code",
   "execution_count": 16,
   "metadata": {},
   "outputs": [
    {
     "ename": "NameError",
     "evalue": "name 'args' is not defined",
     "output_type": "error",
     "traceback": [
      "\u001b[1;31m---------------------------------------------------------------------------\u001b[0m",
      "\u001b[1;31mNameError\u001b[0m                                 Traceback (most recent call last)",
      "\u001b[1;32m<ipython-input-16-0e1e928c189b>\u001b[0m in \u001b[0;36m<module>\u001b[1;34m\u001b[0m\n\u001b[1;32m----> 1\u001b[1;33m \u001b[0mweights_raw\u001b[0m \u001b[1;33m=\u001b[0m \u001b[0mnp\u001b[0m\u001b[1;33m.\u001b[0m\u001b[0mload\u001b[0m\u001b[1;33m(\u001b[0m\u001b[0margs\u001b[0m\u001b[1;33m.\u001b[0m\u001b[0mweight\u001b[0m\u001b[1;33m,\u001b[0m\u001b[0mmmap_mode\u001b[0m\u001b[1;33m=\u001b[0m\u001b[1;34m'r'\u001b[0m\u001b[1;33m)\u001b[0m\u001b[1;33m\u001b[0m\u001b[1;33m\u001b[0m\u001b[0m\n\u001b[0m\u001b[0;32m      2\u001b[0m \u001b[1;33m\u001b[0m\u001b[0m\n\u001b[0;32m      3\u001b[0m \u001b[1;32mwith\u001b[0m \u001b[0mopen\u001b[0m\u001b[1;33m(\u001b[0m\u001b[0margs\u001b[0m\u001b[1;33m.\u001b[0m\u001b[0mconfig\u001b[0m\u001b[1;33m,\u001b[0m \u001b[1;34m\"r\"\u001b[0m\u001b[1;33m)\u001b[0m \u001b[1;32mas\u001b[0m \u001b[0mread_file\u001b[0m\u001b[1;33m:\u001b[0m\u001b[1;33m\u001b[0m\u001b[1;33m\u001b[0m\u001b[0m\n\u001b[0;32m      4\u001b[0m     \u001b[0mnn_config\u001b[0m \u001b[1;33m=\u001b[0m \u001b[0mjson\u001b[0m\u001b[1;33m.\u001b[0m\u001b[0mload\u001b[0m\u001b[1;33m(\u001b[0m\u001b[0mread_file\u001b[0m\u001b[1;33m)\u001b[0m\u001b[1;33m\u001b[0m\u001b[1;33m\u001b[0m\u001b[0m\n\u001b[0;32m      5\u001b[0m \u001b[1;33m\u001b[0m\u001b[0m\n",
      "\u001b[1;31mNameError\u001b[0m: name 'args' is not defined"
     ]
    }
   ],
   "source": [
    "weights_raw = np.load(args.weight,mmap_mode='r')\n",
    "\n",
    "with open(args.config, \"r\") as read_file:\n",
    "    nn_config = json.load(read_file)\n",
    "    \n",
    "#nn_config"
   ]
  },
  {
   "cell_type": "code",
   "execution_count": null,
   "metadata": {},
   "outputs": [],
   "source": []
  },
  {
   "cell_type": "code",
   "execution_count": null,
   "metadata": {},
   "outputs": [],
   "source": []
  },
  {
   "cell_type": "code",
   "execution_count": 10,
   "metadata": {},
   "outputs": [
    {
     "name": "stdout",
     "output_type": "stream",
     "text": [
      "---Using weights given by TAs---\n",
      "Learning rate: 0.001\n",
      "batch size: 2048\n",
      "Total epochs: 20\n",
      "elapsed time: 165.58106684684753 s\n"
     ]
    }
   ],
   "source": [
    "#讀取layer、epoch...設定以及weights\n",
    "\n",
    "layers,epoch,lr,batch_size = read_config(nn_config)\n",
    "\n",
    "weights = read_weight(weights_raw)\n",
    "\n",
    "start = time.time()\n",
    "\n",
    "mini_SGD(layers,epoch,batch_size,lr,weights)\n",
    "\n",
    "print('elapsed time:',time.time()-start,'s')"
   ]
  },
  {
   "cell_type": "code",
   "execution_count": null,
   "metadata": {},
   "outputs": [],
   "source": []
  },
  {
   "cell_type": "code",
   "execution_count": 39,
   "metadata": {},
   "outputs": [],
   "source": []
  },
  {
   "cell_type": "code",
   "execution_count": 10,
   "metadata": {},
   "outputs": [],
   "source": [
    "from PIL import Image\n",
    "import os\n"
   ]
  },
  {
   "cell_type": "code",
   "execution_count": 36,
   "metadata": {},
   "outputs": [
    {
     "name": "stdout",
     "output_type": "stream",
     "text": [
      "[1 0 4 5 4 1 2 1 2 2 0 0 1 3 1 0 1 0 5 1 2 3 2 5 5 3 4 5 0 4 0 2 5 3 3 4 4\n",
      " 2 5 0 3 5 2 3 4 5 4 4 2 4 1 0 0 5 0 0 0 1 4 3 0 2 4 4 4 1 4 1 1 3 3 2 0 2\n",
      " 2 2 3 5 3 4 0 5 4 3 0 3 0 0 4 5 3 4 5 3 5 0 1 5 1 2]\n"
     ]
    }
   ],
   "source": [
    "#讀取最終測試資料\n",
    "final_test_img_list = [] \n",
    "\n",
    "filename_list = open(args.imgfilelistname, \"r\")\n",
    "lines = filename_list.read().splitlines()\n",
    " \n",
    "for line in lines:\n",
    "    final_test_img = Image.open(line)\n",
    "    final_test_img_list.append(np.array(final_test_img))\n",
    "    \n",
    "    line = filename_list.readline()\n",
    " \n",
    "filename_list.close()\n",
    "\n",
    "\n",
    "\n",
    "#divide by 255 and flatten img\n",
    "final_test_img_list = np.array(img_preprocess(np.array(final_test_img_list)))\n",
    "\n",
    "#對最後測試資料預測\n",
    "z_list, a_list = forward(final_test_img_list,weights)\n",
    "\n",
    "final_predictions = np.argmax(a_list[-1], axis=1)\n",
    "\n",
    "print(final_predictions)"
   ]
  },
  {
   "cell_type": "code",
   "execution_count": 12,
   "metadata": {},
   "outputs": [],
   "source": [
    "#將結果寫入output.txt裡\n",
    "output_file = open('output.txt','w')\n",
    "\n",
    "for predict_result in final_predictions:\n",
    "    output_file.write(str(predict_result))\n",
    "    \n",
    "output_file.close()"
   ]
  },
  {
   "cell_type": "code",
   "execution_count": null,
   "metadata": {},
   "outputs": [],
   "source": []
  },
  {
   "cell_type": "code",
   "execution_count": null,
   "metadata": {},
   "outputs": [],
   "source": []
  },
  {
   "cell_type": "code",
   "execution_count": null,
   "metadata": {},
   "outputs": [],
   "source": []
  },
  {
   "cell_type": "code",
   "execution_count": null,
   "metadata": {},
   "outputs": [],
   "source": []
  },
  {
   "cell_type": "code",
   "execution_count": null,
   "metadata": {},
   "outputs": [],
   "source": []
  }
 ],
 "metadata": {
  "celltoolbar": "Raw Cell Format",
  "kernelspec": {
   "display_name": "Python 3",
   "language": "python",
   "name": "python3"
  },
  "language_info": {
   "codemirror_mode": {
    "name": "ipython",
    "version": 3
   },
   "file_extension": ".py",
   "mimetype": "text/x-python",
   "name": "python",
   "nbconvert_exporter": "python",
   "pygments_lexer": "ipython3",
   "version": "3.8.8"
  }
 },
 "nbformat": 4,
 "nbformat_minor": 4
}
