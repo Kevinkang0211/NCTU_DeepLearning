{
 "cells": [
  {
   "cell_type": "code",
   "execution_count": 1,
   "metadata": {},
   "outputs": [],
   "source": [
    "import numpy as np\n",
    "import pandas as pd\n",
    "import nltk\n",
    "#nltk.download()\n",
    "\n",
    "from tensorflow import keras\n",
    "from tensorflow.keras import layers\n",
    "import matplotlib.pyplot as plt\n",
    "\n",
    "\n",
    "from nltk.tokenize import word_tokenize\n",
    "from nltk.corpus import stopwords\n",
    "from nltk.stem import PorterStemmer\n",
    "\n",
    "import string\n",
    "import re"
   ]
  },
  {
   "cell_type": "code",
   "execution_count": null,
   "metadata": {},
   "outputs": [],
   "source": []
  },
  {
   "cell_type": "code",
   "execution_count": null,
   "metadata": {},
   "outputs": [],
   "source": []
  },
  {
   "cell_type": "code",
   "execution_count": 2,
   "metadata": {},
   "outputs": [],
   "source": [
    "from tensorflow.keras.preprocessing.text import Tokenizer\n",
    "from tensorflow.keras.preprocessing import sequence\n",
    "\n"
   ]
  },
  {
   "cell_type": "code",
   "execution_count": 3,
   "metadata": {},
   "outputs": [],
   "source": [
    "x_train = pd.read_csv(\"train.csv\")\n",
    "\n",
    "y_train = np.array(pd.get_dummies(x_train.Category))\n",
    "#labels = pd.factorize(x_train.Category)\n",
    "x_train = x_train.drop(['Id','Category'],axis=1)\n",
    "\n",
    "x_test = pd.read_csv(\"test.csv\")\n",
    "x_test = x_test.drop(['Id'],axis=1)\n"
   ]
  },
  {
   "cell_type": "code",
   "execution_count": 4,
   "metadata": {},
   "outputs": [],
   "source": [
    "seqlen_train = x_train['Title'].apply(lambda x : len(x.split()))\n",
    "seqlen_test = x_test['Title'].apply(lambda x : len(x.split()))"
   ]
  },
  {
   "cell_type": "code",
   "execution_count": 5,
   "metadata": {},
   "outputs": [],
   "source": [
    "import seaborn as sns\n",
    "import matplotlib.pyplot as plt"
   ]
  },
  {
   "cell_type": "code",
   "execution_count": 6,
   "metadata": {},
   "outputs": [
    {
     "data": {
      "text/plain": [
       "<AxesSubplot:xlabel='Title', ylabel='Count'>"
      ]
     },
     "execution_count": 6,
     "metadata": {},
     "output_type": "execute_result"
    },
    {
     "data": {
      "image/png": "[encoded data removed]",
      "text/plain": [
       "<Figure size 576x288 with 1 Axes>"
      ]
     },
     "metadata": {},
     "output_type": "display_data"
    }
   ],
   "source": [
    "#看句子大概的長度範圍\n",
    "\n",
    "sns.set_style('darkgrid')\n",
    "plt.figure(figsize=(8,4))\n",
    "sns.histplot(seqlen_train)\n",
    "sns.histplot(seqlen_test)"
   ]
  },
  {
   "cell_type": "code",
   "execution_count": 7,
   "metadata": {},
   "outputs": [],
   "source": []
  },
  {
   "cell_type": "markdown",
   "metadata": {},
   "source": [
    "text preprocessing 在transformer暫時不要做"
   ]
  },
  {
   "cell_type": "code",
   "execution_count": 7,
   "metadata": {},
   "outputs": [
    {
     "data": {
      "text/html": [
       "<div>\n",
       "<style scoped>\n",
       "    .dataframe tbody tr th:only-of-type {\n",
       "        vertical-align: middle;\n",
       "    }\n",
       "\n",
       "    .dataframe tbody tr th {\n",
       "        vertical-align: top;\n",
       "    }\n",
       "\n",
       "    .dataframe thead th {\n",
       "        text-align: right;\n",
       "    }\n",
       "</style>\n",
       "<table border=\"1\" class=\"dataframe\">\n",
       "  <thead>\n",
       "    <tr style=\"text-align: right;\">\n",
       "      <th></th>\n",
       "      <th>Title</th>\n",
       "    </tr>\n",
       "  </thead>\n",
       "  <tbody>\n",
       "    <tr>\n",
       "      <th>0</th>\n",
       "      <td>Roddick in talks over new coach</td>\n",
       "    </tr>\n",
       "    <tr>\n",
       "      <th>1</th>\n",
       "      <td>Prodigy join V Festival line-up</td>\n",
       "    </tr>\n",
       "    <tr>\n",
       "      <th>2</th>\n",
       "      <td>Sundance to honour foreign films</td>\n",
       "    </tr>\n",
       "    <tr>\n",
       "      <th>3</th>\n",
       "      <td>Dunne keen to commit to Man City</td>\n",
       "    </tr>\n",
       "    <tr>\n",
       "      <th>4</th>\n",
       "      <td>Row over 'police' power for CSOs</td>\n",
       "    </tr>\n",
       "    <tr>\n",
       "      <th>...</th>\n",
       "      <td>...</td>\n",
       "    </tr>\n",
       "    <tr>\n",
       "      <th>1775</th>\n",
       "      <td>Lufthansa may sue over Bush visit</td>\n",
       "    </tr>\n",
       "    <tr>\n",
       "      <th>1776</th>\n",
       "      <td>Rolling out next generation's net</td>\n",
       "    </tr>\n",
       "    <tr>\n",
       "      <th>1777</th>\n",
       "      <td>Mirza makes Indian tennis history</td>\n",
       "    </tr>\n",
       "    <tr>\n",
       "      <th>1778</th>\n",
       "      <td>GTA sequel is criminally good</td>\n",
       "    </tr>\n",
       "    <tr>\n",
       "      <th>1779</th>\n",
       "      <td>Go-ahead for new internet names</td>\n",
       "    </tr>\n",
       "  </tbody>\n",
       "</table>\n",
       "<p>1780 rows × 1 columns</p>\n",
       "</div>"
      ],
      "text/plain": [
       "                                  Title\n",
       "0       Roddick in talks over new coach\n",
       "1       Prodigy join V Festival line-up\n",
       "2      Sundance to honour foreign films\n",
       "3      Dunne keen to commit to Man City\n",
       "4      Row over 'police' power for CSOs\n",
       "...                                 ...\n",
       "1775  Lufthansa may sue over Bush visit\n",
       "1776  Rolling out next generation's net\n",
       "1777  Mirza makes Indian tennis history\n",
       "1778      GTA sequel is criminally good\n",
       "1779    Go-ahead for new internet names\n",
       "\n",
       "[1780 rows x 1 columns]"
      ]
     },
     "execution_count": 7,
     "metadata": {},
     "output_type": "execute_result"
    }
   ],
   "source": [
    "x_train"
   ]
  },
  {
   "cell_type": "code",
   "execution_count": 8,
   "metadata": {
    "scrolled": true
   },
   "outputs": [
    {
     "data": {
      "text/html": [
       "<div>\n",
       "<style scoped>\n",
       "    .dataframe tbody tr th:only-of-type {\n",
       "        vertical-align: middle;\n",
       "    }\n",
       "\n",
       "    .dataframe tbody tr th {\n",
       "        vertical-align: top;\n",
       "    }\n",
       "\n",
       "    .dataframe thead th {\n",
       "        text-align: right;\n",
       "    }\n",
       "</style>\n",
       "<table border=\"1\" class=\"dataframe\">\n",
       "  <thead>\n",
       "    <tr style=\"text-align: right;\">\n",
       "      <th></th>\n",
       "      <th>Title</th>\n",
       "    </tr>\n",
       "  </thead>\n",
       "  <tbody>\n",
       "    <tr>\n",
       "      <th>0</th>\n",
       "      <td>Winemaker rejects Foster's offer</td>\n",
       "    </tr>\n",
       "    <tr>\n",
       "      <th>1</th>\n",
       "      <td>Boeing unveils new 777 aircraft</td>\n",
       "    </tr>\n",
       "    <tr>\n",
       "      <th>2</th>\n",
       "      <td>Brown visits slum on Africa trip</td>\n",
       "    </tr>\n",
       "    <tr>\n",
       "      <th>3</th>\n",
       "      <td>US blogger fired by her airline</td>\n",
       "    </tr>\n",
       "    <tr>\n",
       "      <th>4</th>\n",
       "      <td>Mansfield 0-1 Leyton Orient</td>\n",
       "    </tr>\n",
       "    <tr>\n",
       "      <th>...</th>\n",
       "      <td>...</td>\n",
       "    </tr>\n",
       "    <tr>\n",
       "      <th>440</th>\n",
       "      <td>Queen recruit singer for new tour</td>\n",
       "    </tr>\n",
       "    <tr>\n",
       "      <th>441</th>\n",
       "      <td>Slim PlayStation triples sales</td>\n",
       "    </tr>\n",
       "    <tr>\n",
       "      <th>442</th>\n",
       "      <td>Vera Drake's Bafta triumph hope</td>\n",
       "    </tr>\n",
       "    <tr>\n",
       "      <th>443</th>\n",
       "      <td>Tindall wants second opinion</td>\n",
       "    </tr>\n",
       "    <tr>\n",
       "      <th>444</th>\n",
       "      <td>Text message record smashed</td>\n",
       "    </tr>\n",
       "  </tbody>\n",
       "</table>\n",
       "<p>445 rows × 1 columns</p>\n",
       "</div>"
      ],
      "text/plain": [
       "                                 Title\n",
       "0     Winemaker rejects Foster's offer\n",
       "1      Boeing unveils new 777 aircraft\n",
       "2     Brown visits slum on Africa trip\n",
       "3      US blogger fired by her airline\n",
       "4          Mansfield 0-1 Leyton Orient\n",
       "..                                 ...\n",
       "440  Queen recruit singer for new tour\n",
       "441     Slim PlayStation triples sales\n",
       "442    Vera Drake's Bafta triumph hope\n",
       "443       Tindall wants second opinion\n",
       "444        Text message record smashed\n",
       "\n",
       "[445 rows x 1 columns]"
      ]
     },
     "execution_count": 8,
     "metadata": {},
     "output_type": "execute_result"
    }
   ],
   "source": [
    "x_test"
   ]
  },
  {
   "cell_type": "code",
   "execution_count": null,
   "metadata": {},
   "outputs": [],
   "source": []
  },
  {
   "cell_type": "code",
   "execution_count": null,
   "metadata": {},
   "outputs": [],
   "source": []
  },
  {
   "cell_type": "code",
   "execution_count": 9,
   "metadata": {},
   "outputs": [],
   "source": [
    "\n",
    "token = Tokenizer(num_words=6000)  \n",
    "\n",
    "#使用Tokenizer模組建立token，建立一個字典"
   ]
  },
  {
   "cell_type": "code",
   "execution_count": 10,
   "metadata": {},
   "outputs": [],
   "source": [
    "token.fit_on_texts(x_train['Title'])\n",
    "token.fit_on_texts(x_test['Title'])\n"
   ]
  },
  {
   "cell_type": "code",
   "execution_count": 11,
   "metadata": {},
   "outputs": [],
   "source": [
    "x_train_seq = token.texts_to_sequences(x_train['Title'])\n",
    "x_test_seq = token.texts_to_sequences(x_test['Title'])\n",
    "\n",
    "x_train = sequence.pad_sequences(x_train_seq,maxlen=15)\n",
    "x_test = sequence.pad_sequences(x_test_seq,maxlen=15)"
   ]
  },
  {
   "cell_type": "code",
   "execution_count": null,
   "metadata": {},
   "outputs": [],
   "source": []
  },
  {
   "cell_type": "code",
   "execution_count": 12,
   "metadata": {},
   "outputs": [
    {
     "name": "stderr",
     "output_type": "stream",
     "text": [
      "Using TensorFlow backend.\n"
     ]
    }
   ],
   "source": [
    "from keras.models import Sequential\n",
    "from keras.layers.core import Dense,Dropout,Activation,Flatten\n",
    "from keras.layers.embeddings import Embedding\n",
    "import tensorflow as tf\n",
    "\n",
    "from tensorflow import keras\n",
    "from tensorflow.keras import layers\n"
   ]
  },
  {
   "cell_type": "code",
   "execution_count": 41,
   "metadata": {},
   "outputs": [
    {
     "name": "stdout",
     "output_type": "stream",
     "text": [
      "Found 400000 word vectors.\n"
     ]
    }
   ],
   "source": [
    "import os\n",
    "\n",
    "\n",
    "embeddings_index = {}\n",
    "#這邊需要自行下載glove檔案到本機路徑\n",
    "f = open(os.path.join('C:/Users/kevin/glove.6B', 'glove.6B.300d.txt'),encoding='utf-8')\n",
    "for line in f:\n",
    "    values = line.split()\n",
    "    word = values[0]\n",
    "    coefs = np.asarray(values[1:], dtype='float32')\n",
    "    embeddings_index[word] = coefs\n",
    "f.close()\n",
    "\n",
    "print('Found %s word vectors.' % len(embeddings_index))"
   ]
  },
  {
   "cell_type": "code",
   "execution_count": 42,
   "metadata": {},
   "outputs": [],
   "source": [
    "word_index = token.word_index\n",
    "\n",
    "embedding_matrix = np.zeros((len(word_index) + 1, 300))\n",
    "\n",
    "for word, i in word_index.items():\n",
    "    embedding_vector = embeddings_index.get(word)\n",
    "    if embedding_vector is not None:\n",
    "        # words not found in embedding index will be all-zeros.\n",
    "        embedding_matrix[i] = embedding_vector"
   ]
  },
  {
   "cell_type": "code",
   "execution_count": 43,
   "metadata": {},
   "outputs": [
    {
     "data": {
      "text/plain": [
       "(4082, 300)"
      ]
     },
     "execution_count": 43,
     "metadata": {},
     "output_type": "execute_result"
    }
   ],
   "source": [
    "'''embedding_matrix.shape'''"
   ]
  },
  {
   "cell_type": "code",
   "execution_count": 44,
   "metadata": {},
   "outputs": [],
   "source": []
  },
  {
   "cell_type": "code",
   "execution_count": 13,
   "metadata": {},
   "outputs": [],
   "source": [
    "class TransformerBlock(layers.Layer):\n",
    "    def __init__(self, embed_dim, num_heads, ff_dim, rate=0.3):\n",
    "        super(TransformerBlock, self).__init__()\n",
    "        self.att = layers.MultiHeadAttention(num_heads=num_heads, key_dim=embed_dim)\n",
    "        self.ffn = keras.Sequential(\n",
    "            [layers.Dense(ff_dim, activation=\"tanh\"), layers.Dense(embed_dim),]\n",
    "        )\n",
    "        self.layernorm1 = layers.LayerNormalization(epsilon=1e-6)\n",
    "        self.layernorm2 = layers.LayerNormalization(epsilon=1e-6)\n",
    "        self.dropout1 = layers.Dropout(rate)\n",
    "        self.dropout2 = layers.Dropout(rate)\n",
    "\n",
    "    def call(self, inputs, training):\n",
    "        attn_output = self.att(inputs, inputs)\n",
    "        attn_output = self.dropout1(attn_output, training=training)\n",
    "        out1 = self.layernorm1(inputs + attn_output)\n",
    "        ffn_output = self.ffn(out1)\n",
    "        ffn_output = self.dropout2(ffn_output, training=training)\n",
    "        return self.layernorm2(out1 + ffn_output)"
   ]
  },
  {
   "cell_type": "code",
   "execution_count": 14,
   "metadata": {},
   "outputs": [],
   "source": [
    "class TokenAndPositionEmbedding(layers.Layer):\n",
    "    def __init__(self, maxlen, vocab_size, embed_dim):\n",
    "        super(TokenAndPositionEmbedding, self).__init__()\n",
    "        #self.token_emb = layers.Embedding(input_dim=vocab_size, output_dim=embed_dim)\n",
    "        self.token_emb = layers.Embedding(input_dim=vocab_size, output_dim=embed_dim,weights=[testembedding],\n",
    "                                                                                    input_length = 15,\n",
    "                                                                                     trainable=True)\n",
    "        \n",
    "        self.pos_emb = layers.Embedding(input_dim=maxlen, output_dim=embed_dim)\n",
    "\n",
    "    def call(self, x):\n",
    "        maxlen = tf.shape(x)[-1]\n",
    "        positions = tf.range(start=0, limit=maxlen, delta=1)\n",
    "        positions = self.pos_emb(positions)\n",
    "        \n",
    "        x = self.token_emb(x)\n",
    "        return x + positions\n",
    "    \n",
    "    \n"
   ]
  },
  {
   "cell_type": "code",
   "execution_count": null,
   "metadata": {
    "scrolled": true
   },
   "outputs": [],
   "source": []
  },
  {
   "cell_type": "markdown",
   "metadata": {},
   "source": [
    "## HW 1.3 Transformer Model Setting"
   ]
  },
  {
   "cell_type": "markdown",
   "metadata": {},
   "source": [
    "Hyperparameter of Transformer:\n",
    "\n",
    "-Attention head 設為3\n",
    "\n",
    "-Transformer block裡面的隱藏層的layer size設為16\n",
    "\n",
    "-Transfromer block後面接一個 64nodes 的隱藏層，activation function 經實驗過後設為tanh表現最好"
   ]
  },
  {
   "cell_type": "code",
   "execution_count": 54,
   "metadata": {},
   "outputs": [],
   "source": [
    "#設定EARLY STOP機制 監控loss變化\n",
    "callback = keras.callbacks.EarlyStopping(monitor='loss', patience=1)"
   ]
  },
  {
   "cell_type": "code",
   "execution_count": 65,
   "metadata": {},
   "outputs": [],
   "source": [
    "\n",
    "vocab_size,embed_dim = embedding_matrix.shape\n",
    "maxlen = 15  # Only consider the first 200 words of each movie review\n",
    "num_heads = 3  # Number of attention heads\n",
    "ff_dim = 16  # Hidden layer size in feed forward network inside transformer\n",
    "\n",
    "testembedding = embedding_matrix.copy()\n",
    "\n",
    "inputs = layers.Input(shape=(maxlen,))\n",
    "\n",
    "embedding_layer = TokenAndPositionEmbedding(maxlen, vocab_size, embed_dim)\n",
    "\n",
    "x = embedding_layer(inputs)\n",
    "\n",
    "transformer_block = TransformerBlock(embed_dim, num_heads, ff_dim)\n",
    "\n",
    "x = transformer_block(x)\n",
    "\n",
    "x = layers.GlobalAveragePooling1D()(x)\n",
    "x = layers.Dropout(0.3)(x)\n",
    "\n",
    "\n",
    "x = layers.Dense(64 ,activation=\"tanh\")(x)\n",
    "x = layers.Dropout(0.3)(x)\n",
    "\n",
    "\n",
    "outputs = layers.Dense(5, activation=\"softmax\")(x)\n",
    "\n",
    "model = keras.Model(inputs=inputs, outputs=outputs)"
   ]
  },
  {
   "cell_type": "code",
   "execution_count": 66,
   "metadata": {},
   "outputs": [
    {
     "name": "stdout",
     "output_type": "stream",
     "text": [
      "Epoch 1/80\n",
      "56/56 - 4s - loss: 0.6489 - accuracy: 0.7736\n",
      "Epoch 2/80\n",
      "56/56 - 3s - loss: 0.2413 - accuracy: 0.9275\n",
      "Epoch 3/80\n",
      "56/56 - 3s - loss: 0.1337 - accuracy: 0.9551\n",
      "Epoch 4/80\n",
      "56/56 - 3s - loss: 0.0822 - accuracy: 0.9742\n",
      "Epoch 5/80\n",
      "56/56 - 3s - loss: 0.0379 - accuracy: 0.9888\n",
      "Epoch 6/80\n",
      "56/56 - 3s - loss: 0.0164 - accuracy: 0.9972\n",
      "Epoch 7/80\n",
      "56/56 - 3s - loss: 0.0086 - accuracy: 0.9983\n",
      "Epoch 8/80\n",
      "56/56 - 3s - loss: 0.0036 - accuracy: 1.0000\n",
      "Epoch 9/80\n",
      "56/56 - 3s - loss: 0.0026 - accuracy: 1.0000\n",
      "Epoch 10/80\n",
      "56/56 - 3s - loss: 0.0022 - accuracy: 1.0000\n",
      "Epoch 11/80\n",
      "56/56 - 3s - loss: 0.0020 - accuracy: 1.0000\n",
      "Epoch 12/80\n",
      "56/56 - 3s - loss: 0.0014 - accuracy: 1.0000\n",
      "Epoch 13/80\n",
      "56/56 - 3s - loss: 0.0011 - accuracy: 1.0000\n",
      "Epoch 14/80\n",
      "56/56 - 3s - loss: 9.4609e-04 - accuracy: 1.0000\n",
      "Epoch 15/80\n",
      "56/56 - 3s - loss: 9.1599e-04 - accuracy: 1.0000\n",
      "Epoch 16/80\n",
      "56/56 - 3s - loss: 7.6867e-04 - accuracy: 1.0000\n",
      "Epoch 17/80\n",
      "56/56 - 3s - loss: 7.3732e-04 - accuracy: 1.0000\n",
      "Epoch 18/80\n",
      "56/56 - 3s - loss: 6.5772e-04 - accuracy: 1.0000\n",
      "Epoch 19/80\n",
      "56/56 - 3s - loss: 6.1300e-04 - accuracy: 1.0000\n",
      "Epoch 20/80\n",
      "56/56 - 3s - loss: 5.6273e-04 - accuracy: 1.0000\n",
      "Epoch 21/80\n",
      "56/56 - 3s - loss: 5.4048e-04 - accuracy: 1.0000\n",
      "Epoch 22/80\n",
      "56/56 - 3s - loss: 5.4081e-04 - accuracy: 1.0000\n"
     ]
    }
   ],
   "source": [
    "\n",
    "optimizer = tf.keras.optimizers.Adam(\n",
    "    learning_rate=0.001, beta_1=0.9, beta_2=0.999, epsilon=1e-07, amsgrad=False)\n",
    "\n",
    "loss = tf.keras.losses.CategoricalCrossentropy()  # categorical = one-hot\n",
    "acc = tf.keras.metrics.CategoricalAccuracy('accuracy')\n",
    "\n",
    "model.compile(optimizer=optimizer, loss=loss, metrics=[acc])\n",
    "\n",
    "\n",
    "train_history = model.fit(x_train, y_train, \n",
    "                          batch_size=32, \n",
    "                          epochs=80,\n",
    "                          verbose=2,\n",
    "                          callbacks=[callback],\n",
    "                  #validation_split=0.1\n",
    ")"
   ]
  },
  {
   "cell_type": "code",
   "execution_count": null,
   "metadata": {},
   "outputs": [],
   "source": []
  },
  {
   "cell_type": "code",
   "execution_count": 67,
   "metadata": {},
   "outputs": [],
   "source": [
    "\n",
    "y_predict = model.predict(x_test, verbose=0)\n",
    "\n",
    "y_predict = np.argmax(y_predict,axis=1)\n",
    "\n",
    "classes = ['business','entertainment','politics','sport','tech']\n",
    "\n",
    "result =[]\n",
    "for i in range(len(y_predict)):\n",
    "    result.append([i,classes[y_predict[i]]])\n",
    "    \n",
    "final_result = pd.DataFrame(data=result, index=None, columns=['Id','Category'], dtype=None, copy=False)\n",
    "\n",
    "final_result.to_csv(r'309706033_submission_transformer.csv', index = False)"
   ]
  },
  {
   "cell_type": "code",
   "execution_count": null,
   "metadata": {},
   "outputs": [],
   "source": []
  },
  {
   "cell_type": "code",
   "execution_count": 68,
   "metadata": {},
   "outputs": [
    {
     "name": "stderr",
     "output_type": "stream",
     "text": [
      "WARNING:absl:Found untraced functions such as embedding_6_layer_call_fn, embedding_6_layer_call_and_return_conditional_losses, embedding_7_layer_call_fn, embedding_7_layer_call_and_return_conditional_losses, multi_head_attention_3_layer_call_fn while saving (showing 5 of 65). These functions will not be directly callable after loading.\n",
      "WARNING:absl:Found untraced functions such as embedding_6_layer_call_fn, embedding_6_layer_call_and_return_conditional_losses, embedding_7_layer_call_fn, embedding_7_layer_call_and_return_conditional_losses, multi_head_attention_3_layer_call_fn while saving (showing 5 of 65). These functions will not be directly callable after loading.\n"
     ]
    },
    {
     "name": "stdout",
     "output_type": "stream",
     "text": [
      "INFO:tensorflow:Assets written to: transformer_model\\assets\n"
     ]
    },
    {
     "name": "stderr",
     "output_type": "stream",
     "text": [
      "INFO:tensorflow:Assets written to: transformer_model\\assets\n"
     ]
    }
   ],
   "source": [
    "'''model.save('transformer_model')'''"
   ]
  },
  {
   "cell_type": "code",
   "execution_count": 15,
   "metadata": {},
   "outputs": [],
   "source": [
    "#reconstructed_model = keras.models.load_model(\"transformer_model\")"
   ]
  },
  {
   "cell_type": "code",
   "execution_count": 16,
   "metadata": {},
   "outputs": [],
   "source": [
    "'''\n",
    "y_predict = reconstructed_model.predict(x_test, verbose=0)\n",
    "\n",
    "y_predict = np.argmax(y_predict,axis=1)\n",
    "\n",
    "classes = ['business','entertainment','politics','sport','tech']\n",
    "\n",
    "result =[]\n",
    "for i in range(len(y_predict)):\n",
    "    result.append([i,classes[y_predict[i]]])\n",
    "    \n",
    "final_result = pd.DataFrame(data=result, index=None, columns=['Id','Category'], dtype=None, copy=False)\n",
    "\n",
    "final_result.to_csv(r'309706033_submission_transformer.csv', index = False)'''"
   ]
  },
  {
   "cell_type": "code",
   "execution_count": null,
   "metadata": {},
   "outputs": [],
   "source": []
  }
 ],
 "metadata": {
  "kernelspec": {
   "display_name": "Python 3",
   "language": "python",
   "name": "python3"
  },
  "language_info": {
   "codemirror_mode": {
    "name": "ipython",
    "version": 3
   },
   "file_extension": ".py",
   "mimetype": "text/x-python",
   "name": "python",
   "nbconvert_exporter": "python",
   "pygments_lexer": "ipython3",
   "version": "3.7.9"
  }
 },
 "nbformat": 4,
 "nbformat_minor": 5
}
